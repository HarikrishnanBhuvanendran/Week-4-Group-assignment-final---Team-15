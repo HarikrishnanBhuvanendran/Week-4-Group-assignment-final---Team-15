{
 "cells": [
  {
   "cell_type": "markdown",
   "id": "fc7f7094",
   "metadata": {},
   "source": [
    "# WEEK_4 GROUP ACTIVITY.\n",
    "1. Compare churn count with respect to gender. \n",
    "2. Find out how many female senior citizens there in the dataset \n",
    "3. Compare 'tenure' with 'Total Charges' \n",
    "4. Find out which contract preffered by the senior citizen. \n",
    "5. Comment on your finds on Payment Method?"
   ]
  },
  {
   "cell_type": "code",
   "execution_count": 16,
   "id": "4f538d15",
   "metadata": {},
   "outputs": [
    {
     "data": {
      "text/html": [
       "<div>\n",
       "<style scoped>\n",
       "    .dataframe tbody tr th:only-of-type {\n",
       "        vertical-align: middle;\n",
       "    }\n",
       "\n",
       "    .dataframe tbody tr th {\n",
       "        vertical-align: top;\n",
       "    }\n",
       "\n",
       "    .dataframe thead th {\n",
       "        text-align: right;\n",
       "    }\n",
       "</style>\n",
       "<table border=\"1\" class=\"dataframe\">\n",
       "  <thead>\n",
       "    <tr style=\"text-align: right;\">\n",
       "      <th></th>\n",
       "      <th>customerID</th>\n",
       "      <th>gender</th>\n",
       "      <th>SeniorCitizen</th>\n",
       "      <th>Partner</th>\n",
       "      <th>Dependents</th>\n",
       "      <th>tenure</th>\n",
       "      <th>PhoneService</th>\n",
       "      <th>MultipleLines</th>\n",
       "      <th>InternetService</th>\n",
       "      <th>OnlineSecurity</th>\n",
       "      <th>...</th>\n",
       "      <th>DeviceProtection</th>\n",
       "      <th>TechSupport</th>\n",
       "      <th>StreamingTV</th>\n",
       "      <th>StreamingMovies</th>\n",
       "      <th>Contract</th>\n",
       "      <th>PaperlessBilling</th>\n",
       "      <th>PaymentMethod</th>\n",
       "      <th>MonthlyCharges</th>\n",
       "      <th>TotalCharges</th>\n",
       "      <th>Churn</th>\n",
       "    </tr>\n",
       "  </thead>\n",
       "  <tbody>\n",
       "    <tr>\n",
       "      <th>0</th>\n",
       "      <td>7590-VHVEG</td>\n",
       "      <td>Female</td>\n",
       "      <td>0</td>\n",
       "      <td>Yes</td>\n",
       "      <td>No</td>\n",
       "      <td>1</td>\n",
       "      <td>No</td>\n",
       "      <td>No phone service</td>\n",
       "      <td>DSL</td>\n",
       "      <td>No</td>\n",
       "      <td>...</td>\n",
       "      <td>No</td>\n",
       "      <td>No</td>\n",
       "      <td>No</td>\n",
       "      <td>No</td>\n",
       "      <td>Month-to-month</td>\n",
       "      <td>Yes</td>\n",
       "      <td>Electronic check</td>\n",
       "      <td>29.85</td>\n",
       "      <td>29.85</td>\n",
       "      <td>No</td>\n",
       "    </tr>\n",
       "    <tr>\n",
       "      <th>1</th>\n",
       "      <td>5575-GNVDE</td>\n",
       "      <td>Male</td>\n",
       "      <td>0</td>\n",
       "      <td>No</td>\n",
       "      <td>No</td>\n",
       "      <td>34</td>\n",
       "      <td>Yes</td>\n",
       "      <td>No</td>\n",
       "      <td>DSL</td>\n",
       "      <td>Yes</td>\n",
       "      <td>...</td>\n",
       "      <td>Yes</td>\n",
       "      <td>No</td>\n",
       "      <td>No</td>\n",
       "      <td>No</td>\n",
       "      <td>One year</td>\n",
       "      <td>No</td>\n",
       "      <td>Mailed check</td>\n",
       "      <td>56.95</td>\n",
       "      <td>1889.5</td>\n",
       "      <td>No</td>\n",
       "    </tr>\n",
       "    <tr>\n",
       "      <th>2</th>\n",
       "      <td>3668-QPYBK</td>\n",
       "      <td>Male</td>\n",
       "      <td>0</td>\n",
       "      <td>No</td>\n",
       "      <td>No</td>\n",
       "      <td>2</td>\n",
       "      <td>Yes</td>\n",
       "      <td>No</td>\n",
       "      <td>DSL</td>\n",
       "      <td>Yes</td>\n",
       "      <td>...</td>\n",
       "      <td>No</td>\n",
       "      <td>No</td>\n",
       "      <td>No</td>\n",
       "      <td>No</td>\n",
       "      <td>Month-to-month</td>\n",
       "      <td>Yes</td>\n",
       "      <td>Mailed check</td>\n",
       "      <td>53.85</td>\n",
       "      <td>108.15</td>\n",
       "      <td>Yes</td>\n",
       "    </tr>\n",
       "    <tr>\n",
       "      <th>3</th>\n",
       "      <td>7795-CFOCW</td>\n",
       "      <td>Male</td>\n",
       "      <td>0</td>\n",
       "      <td>No</td>\n",
       "      <td>No</td>\n",
       "      <td>45</td>\n",
       "      <td>No</td>\n",
       "      <td>No phone service</td>\n",
       "      <td>DSL</td>\n",
       "      <td>Yes</td>\n",
       "      <td>...</td>\n",
       "      <td>Yes</td>\n",
       "      <td>Yes</td>\n",
       "      <td>No</td>\n",
       "      <td>No</td>\n",
       "      <td>One year</td>\n",
       "      <td>No</td>\n",
       "      <td>Bank transfer (automatic)</td>\n",
       "      <td>42.30</td>\n",
       "      <td>1840.75</td>\n",
       "      <td>No</td>\n",
       "    </tr>\n",
       "    <tr>\n",
       "      <th>4</th>\n",
       "      <td>9237-HQITU</td>\n",
       "      <td>Female</td>\n",
       "      <td>0</td>\n",
       "      <td>No</td>\n",
       "      <td>No</td>\n",
       "      <td>2</td>\n",
       "      <td>Yes</td>\n",
       "      <td>No</td>\n",
       "      <td>Fiber optic</td>\n",
       "      <td>No</td>\n",
       "      <td>...</td>\n",
       "      <td>No</td>\n",
       "      <td>No</td>\n",
       "      <td>No</td>\n",
       "      <td>No</td>\n",
       "      <td>Month-to-month</td>\n",
       "      <td>Yes</td>\n",
       "      <td>Electronic check</td>\n",
       "      <td>70.70</td>\n",
       "      <td>151.65</td>\n",
       "      <td>Yes</td>\n",
       "    </tr>\n",
       "    <tr>\n",
       "      <th>...</th>\n",
       "      <td>...</td>\n",
       "      <td>...</td>\n",
       "      <td>...</td>\n",
       "      <td>...</td>\n",
       "      <td>...</td>\n",
       "      <td>...</td>\n",
       "      <td>...</td>\n",
       "      <td>...</td>\n",
       "      <td>...</td>\n",
       "      <td>...</td>\n",
       "      <td>...</td>\n",
       "      <td>...</td>\n",
       "      <td>...</td>\n",
       "      <td>...</td>\n",
       "      <td>...</td>\n",
       "      <td>...</td>\n",
       "      <td>...</td>\n",
       "      <td>...</td>\n",
       "      <td>...</td>\n",
       "      <td>...</td>\n",
       "      <td>...</td>\n",
       "    </tr>\n",
       "    <tr>\n",
       "      <th>7038</th>\n",
       "      <td>6840-RESVB</td>\n",
       "      <td>Male</td>\n",
       "      <td>0</td>\n",
       "      <td>Yes</td>\n",
       "      <td>Yes</td>\n",
       "      <td>24</td>\n",
       "      <td>Yes</td>\n",
       "      <td>Yes</td>\n",
       "      <td>DSL</td>\n",
       "      <td>Yes</td>\n",
       "      <td>...</td>\n",
       "      <td>Yes</td>\n",
       "      <td>Yes</td>\n",
       "      <td>Yes</td>\n",
       "      <td>Yes</td>\n",
       "      <td>One year</td>\n",
       "      <td>Yes</td>\n",
       "      <td>Mailed check</td>\n",
       "      <td>84.80</td>\n",
       "      <td>1990.5</td>\n",
       "      <td>No</td>\n",
       "    </tr>\n",
       "    <tr>\n",
       "      <th>7039</th>\n",
       "      <td>2234-XADUH</td>\n",
       "      <td>Female</td>\n",
       "      <td>0</td>\n",
       "      <td>Yes</td>\n",
       "      <td>Yes</td>\n",
       "      <td>72</td>\n",
       "      <td>Yes</td>\n",
       "      <td>Yes</td>\n",
       "      <td>Fiber optic</td>\n",
       "      <td>No</td>\n",
       "      <td>...</td>\n",
       "      <td>Yes</td>\n",
       "      <td>No</td>\n",
       "      <td>Yes</td>\n",
       "      <td>Yes</td>\n",
       "      <td>One year</td>\n",
       "      <td>Yes</td>\n",
       "      <td>Credit card (automatic)</td>\n",
       "      <td>103.20</td>\n",
       "      <td>7362.9</td>\n",
       "      <td>No</td>\n",
       "    </tr>\n",
       "    <tr>\n",
       "      <th>7040</th>\n",
       "      <td>4801-JZAZL</td>\n",
       "      <td>Female</td>\n",
       "      <td>0</td>\n",
       "      <td>Yes</td>\n",
       "      <td>Yes</td>\n",
       "      <td>11</td>\n",
       "      <td>No</td>\n",
       "      <td>No phone service</td>\n",
       "      <td>DSL</td>\n",
       "      <td>Yes</td>\n",
       "      <td>...</td>\n",
       "      <td>No</td>\n",
       "      <td>No</td>\n",
       "      <td>No</td>\n",
       "      <td>No</td>\n",
       "      <td>Month-to-month</td>\n",
       "      <td>Yes</td>\n",
       "      <td>Electronic check</td>\n",
       "      <td>29.60</td>\n",
       "      <td>346.45</td>\n",
       "      <td>No</td>\n",
       "    </tr>\n",
       "    <tr>\n",
       "      <th>7041</th>\n",
       "      <td>8361-LTMKD</td>\n",
       "      <td>Male</td>\n",
       "      <td>1</td>\n",
       "      <td>Yes</td>\n",
       "      <td>No</td>\n",
       "      <td>4</td>\n",
       "      <td>Yes</td>\n",
       "      <td>Yes</td>\n",
       "      <td>Fiber optic</td>\n",
       "      <td>No</td>\n",
       "      <td>...</td>\n",
       "      <td>No</td>\n",
       "      <td>No</td>\n",
       "      <td>No</td>\n",
       "      <td>No</td>\n",
       "      <td>Month-to-month</td>\n",
       "      <td>Yes</td>\n",
       "      <td>Mailed check</td>\n",
       "      <td>74.40</td>\n",
       "      <td>306.6</td>\n",
       "      <td>Yes</td>\n",
       "    </tr>\n",
       "    <tr>\n",
       "      <th>7042</th>\n",
       "      <td>3186-AJIEK</td>\n",
       "      <td>Male</td>\n",
       "      <td>0</td>\n",
       "      <td>No</td>\n",
       "      <td>No</td>\n",
       "      <td>66</td>\n",
       "      <td>Yes</td>\n",
       "      <td>No</td>\n",
       "      <td>Fiber optic</td>\n",
       "      <td>Yes</td>\n",
       "      <td>...</td>\n",
       "      <td>Yes</td>\n",
       "      <td>Yes</td>\n",
       "      <td>Yes</td>\n",
       "      <td>Yes</td>\n",
       "      <td>Two year</td>\n",
       "      <td>Yes</td>\n",
       "      <td>Bank transfer (automatic)</td>\n",
       "      <td>105.65</td>\n",
       "      <td>6844.5</td>\n",
       "      <td>No</td>\n",
       "    </tr>\n",
       "  </tbody>\n",
       "</table>\n",
       "<p>7043 rows × 21 columns</p>\n",
       "</div>"
      ],
      "text/plain": [
       "      customerID  gender  SeniorCitizen Partner Dependents  tenure  \\\n",
       "0     7590-VHVEG  Female              0     Yes         No       1   \n",
       "1     5575-GNVDE    Male              0      No         No      34   \n",
       "2     3668-QPYBK    Male              0      No         No       2   \n",
       "3     7795-CFOCW    Male              0      No         No      45   \n",
       "4     9237-HQITU  Female              0      No         No       2   \n",
       "...          ...     ...            ...     ...        ...     ...   \n",
       "7038  6840-RESVB    Male              0     Yes        Yes      24   \n",
       "7039  2234-XADUH  Female              0     Yes        Yes      72   \n",
       "7040  4801-JZAZL  Female              0     Yes        Yes      11   \n",
       "7041  8361-LTMKD    Male              1     Yes         No       4   \n",
       "7042  3186-AJIEK    Male              0      No         No      66   \n",
       "\n",
       "     PhoneService     MultipleLines InternetService OnlineSecurity  ...  \\\n",
       "0              No  No phone service             DSL             No  ...   \n",
       "1             Yes                No             DSL            Yes  ...   \n",
       "2             Yes                No             DSL            Yes  ...   \n",
       "3              No  No phone service             DSL            Yes  ...   \n",
       "4             Yes                No     Fiber optic             No  ...   \n",
       "...           ...               ...             ...            ...  ...   \n",
       "7038          Yes               Yes             DSL            Yes  ...   \n",
       "7039          Yes               Yes     Fiber optic             No  ...   \n",
       "7040           No  No phone service             DSL            Yes  ...   \n",
       "7041          Yes               Yes     Fiber optic             No  ...   \n",
       "7042          Yes                No     Fiber optic            Yes  ...   \n",
       "\n",
       "     DeviceProtection TechSupport StreamingTV StreamingMovies        Contract  \\\n",
       "0                  No          No          No              No  Month-to-month   \n",
       "1                 Yes          No          No              No        One year   \n",
       "2                  No          No          No              No  Month-to-month   \n",
       "3                 Yes         Yes          No              No        One year   \n",
       "4                  No          No          No              No  Month-to-month   \n",
       "...               ...         ...         ...             ...             ...   \n",
       "7038              Yes         Yes         Yes             Yes        One year   \n",
       "7039              Yes          No         Yes             Yes        One year   \n",
       "7040               No          No          No              No  Month-to-month   \n",
       "7041               No          No          No              No  Month-to-month   \n",
       "7042              Yes         Yes         Yes             Yes        Two year   \n",
       "\n",
       "     PaperlessBilling              PaymentMethod MonthlyCharges  TotalCharges  \\\n",
       "0                 Yes           Electronic check          29.85         29.85   \n",
       "1                  No               Mailed check          56.95        1889.5   \n",
       "2                 Yes               Mailed check          53.85        108.15   \n",
       "3                  No  Bank transfer (automatic)          42.30       1840.75   \n",
       "4                 Yes           Electronic check          70.70        151.65   \n",
       "...               ...                        ...            ...           ...   \n",
       "7038              Yes               Mailed check          84.80        1990.5   \n",
       "7039              Yes    Credit card (automatic)         103.20        7362.9   \n",
       "7040              Yes           Electronic check          29.60        346.45   \n",
       "7041              Yes               Mailed check          74.40         306.6   \n",
       "7042              Yes  Bank transfer (automatic)         105.65        6844.5   \n",
       "\n",
       "     Churn  \n",
       "0       No  \n",
       "1       No  \n",
       "2      Yes  \n",
       "3       No  \n",
       "4      Yes  \n",
       "...    ...  \n",
       "7038    No  \n",
       "7039    No  \n",
       "7040    No  \n",
       "7041   Yes  \n",
       "7042    No  \n",
       "\n",
       "[7043 rows x 21 columns]"
      ]
     },
     "execution_count": 16,
     "metadata": {},
     "output_type": "execute_result"
    }
   ],
   "source": [
    "#import all the relevant libraries\n",
    "import pandas as pd\n",
    "import numpy as np\n",
    "import matplotlib.pyplot as plt\n",
    "import seaborn as sns\n",
    "\n",
    "#Load the xls sheet to a variable named spreadsheet\n",
    "spreadsheet = pd.ExcelFile(r\"Telco-Customer-Churn.xlsx\")\n",
    "#Move the first sheet (with index value 0) to sstab1 \n",
    "sstab1 = spreadsheet.parse(0)\n",
    "sstab1"
   ]
  },
  {
   "cell_type": "code",
   "execution_count": 17,
   "id": "af3ec804",
   "metadata": {},
   "outputs": [
    {
     "data": {
      "text/plain": [
       "Index(['customerID', 'gender', 'SeniorCitizen', 'Partner', 'Dependents',\n",
       "       'tenure', 'PhoneService', 'MultipleLines', 'InternetService',\n",
       "       'OnlineSecurity', 'OnlineBackup', 'DeviceProtection', 'TechSupport',\n",
       "       'StreamingTV', 'StreamingMovies', 'Contract', 'PaperlessBilling',\n",
       "       'PaymentMethod', 'MonthlyCharges', 'TotalCharges', 'Churn'],\n",
       "      dtype='object')"
      ]
     },
     "execution_count": 17,
     "metadata": {},
     "output_type": "execute_result"
    }
   ],
   "source": [
    "sstab1.columns"
   ]
  },
  {
   "cell_type": "code",
   "execution_count": 18,
   "id": "8445b948",
   "metadata": {},
   "outputs": [
    {
     "data": {
      "text/plain": [
       "Index([], dtype='object')"
      ]
     },
     "execution_count": 18,
     "metadata": {},
     "output_type": "execute_result"
    }
   ],
   "source": [
    "sstab1.columns[sstab1.isnull().any()]"
   ]
  },
  {
   "cell_type": "code",
   "execution_count": 19,
   "id": "cc22d5ff",
   "metadata": {},
   "outputs": [
    {
     "data": {
      "text/plain": [
       "customerID           object\n",
       "gender               object\n",
       "SeniorCitizen         int64\n",
       "Partner              object\n",
       "Dependents           object\n",
       "tenure                int64\n",
       "PhoneService         object\n",
       "MultipleLines        object\n",
       "InternetService      object\n",
       "OnlineSecurity       object\n",
       "OnlineBackup         object\n",
       "DeviceProtection     object\n",
       "TechSupport          object\n",
       "StreamingTV          object\n",
       "StreamingMovies      object\n",
       "Contract             object\n",
       "PaperlessBilling     object\n",
       "PaymentMethod        object\n",
       "MonthlyCharges      float64\n",
       "TotalCharges         object\n",
       "Churn                object\n",
       "dtype: object"
      ]
     },
     "execution_count": 19,
     "metadata": {},
     "output_type": "execute_result"
    }
   ],
   "source": [
    "sstab1.dtypes"
   ]
  },
  {
   "cell_type": "markdown",
   "id": "f3edbb42",
   "metadata": {},
   "source": [
    "# 1) Compare churn count with respect to gender."
   ]
  },
  {
   "cell_type": "code",
   "execution_count": 20,
   "id": "e966d849",
   "metadata": {},
   "outputs": [],
   "source": [
    "#Move Gender and Churn columns to a new Data frame\n",
    "genderchurn=pd.DataFrame(sstab1, columns=['gender','Churn'])"
   ]
  },
  {
   "cell_type": "code",
   "execution_count": 21,
   "id": "d517a7d4",
   "metadata": {},
   "outputs": [
    {
     "data": {
      "text/html": [
       "<div>\n",
       "<style scoped>\n",
       "    .dataframe tbody tr th:only-of-type {\n",
       "        vertical-align: middle;\n",
       "    }\n",
       "\n",
       "    .dataframe tbody tr th {\n",
       "        vertical-align: top;\n",
       "    }\n",
       "\n",
       "    .dataframe thead th {\n",
       "        text-align: right;\n",
       "    }\n",
       "</style>\n",
       "<table border=\"1\" class=\"dataframe\">\n",
       "  <thead>\n",
       "    <tr style=\"text-align: right;\">\n",
       "      <th></th>\n",
       "      <th>gender</th>\n",
       "      <th>Churn</th>\n",
       "    </tr>\n",
       "  </thead>\n",
       "  <tbody>\n",
       "    <tr>\n",
       "      <th>0</th>\n",
       "      <td>Female</td>\n",
       "      <td>No</td>\n",
       "    </tr>\n",
       "    <tr>\n",
       "      <th>1</th>\n",
       "      <td>Male</td>\n",
       "      <td>No</td>\n",
       "    </tr>\n",
       "    <tr>\n",
       "      <th>2</th>\n",
       "      <td>Male</td>\n",
       "      <td>Yes</td>\n",
       "    </tr>\n",
       "    <tr>\n",
       "      <th>3</th>\n",
       "      <td>Male</td>\n",
       "      <td>No</td>\n",
       "    </tr>\n",
       "    <tr>\n",
       "      <th>4</th>\n",
       "      <td>Female</td>\n",
       "      <td>Yes</td>\n",
       "    </tr>\n",
       "    <tr>\n",
       "      <th>...</th>\n",
       "      <td>...</td>\n",
       "      <td>...</td>\n",
       "    </tr>\n",
       "    <tr>\n",
       "      <th>7038</th>\n",
       "      <td>Male</td>\n",
       "      <td>No</td>\n",
       "    </tr>\n",
       "    <tr>\n",
       "      <th>7039</th>\n",
       "      <td>Female</td>\n",
       "      <td>No</td>\n",
       "    </tr>\n",
       "    <tr>\n",
       "      <th>7040</th>\n",
       "      <td>Female</td>\n",
       "      <td>No</td>\n",
       "    </tr>\n",
       "    <tr>\n",
       "      <th>7041</th>\n",
       "      <td>Male</td>\n",
       "      <td>Yes</td>\n",
       "    </tr>\n",
       "    <tr>\n",
       "      <th>7042</th>\n",
       "      <td>Male</td>\n",
       "      <td>No</td>\n",
       "    </tr>\n",
       "  </tbody>\n",
       "</table>\n",
       "<p>7043 rows × 2 columns</p>\n",
       "</div>"
      ],
      "text/plain": [
       "      gender Churn\n",
       "0     Female    No\n",
       "1       Male    No\n",
       "2       Male   Yes\n",
       "3       Male    No\n",
       "4     Female   Yes\n",
       "...      ...   ...\n",
       "7038    Male    No\n",
       "7039  Female    No\n",
       "7040  Female    No\n",
       "7041    Male   Yes\n",
       "7042    Male    No\n",
       "\n",
       "[7043 rows x 2 columns]"
      ]
     },
     "execution_count": 21,
     "metadata": {},
     "output_type": "execute_result"
    }
   ],
   "source": [
    "#Check the genderchurn dataframe and see if the values are populated\n",
    "genderchurn"
   ]
  },
  {
   "cell_type": "code",
   "execution_count": 23,
   "id": "e3a2f997",
   "metadata": {},
   "outputs": [],
   "source": [
    "#Add the counts of Males who has churn value as 'Yes'\n",
    "MaleYes = genderchurn.loc[(genderchurn['gender']=='Male') & (genderchurn['Churn']=='Yes'),'gender'].count()\n"
   ]
  },
  {
   "cell_type": "code",
   "execution_count": 24,
   "id": "69e7f158",
   "metadata": {},
   "outputs": [
    {
     "data": {
      "text/plain": [
       "930"
      ]
     },
     "execution_count": 24,
     "metadata": {},
     "output_type": "execute_result"
    }
   ],
   "source": [
    "# Display the Male Churn count\n",
    "MaleYes"
   ]
  },
  {
   "cell_type": "code",
   "execution_count": 25,
   "id": "ce025a6e",
   "metadata": {},
   "outputs": [],
   "source": [
    "#Add the counts of Males who has churn value as 'No'\n",
    "MaleNo = genderchurn.loc[(genderchurn['gender']=='Male') & (genderchurn['Churn']=='No'),'gender'].count()"
   ]
  },
  {
   "cell_type": "code",
   "execution_count": 26,
   "id": "36b2ddc1",
   "metadata": {},
   "outputs": [
    {
     "data": {
      "text/plain": [
       "2625"
      ]
     },
     "execution_count": 26,
     "metadata": {},
     "output_type": "execute_result"
    }
   ],
   "source": [
    "# Display the Male Churn=No count\n",
    "MaleNo"
   ]
  },
  {
   "cell_type": "code",
   "execution_count": 27,
   "id": "d1ae618d",
   "metadata": {},
   "outputs": [],
   "source": [
    "#Add the counts of Females who has churn value as 'Yes'\n",
    "FemaleYes = genderchurn.loc[(genderchurn['gender']=='Female') & (genderchurn['Churn']=='Yes'),'gender'].count()"
   ]
  },
  {
   "cell_type": "code",
   "execution_count": 28,
   "id": "5df9e4a8",
   "metadata": {},
   "outputs": [
    {
     "data": {
      "text/plain": [
       "939"
      ]
     },
     "execution_count": 28,
     "metadata": {},
     "output_type": "execute_result"
    }
   ],
   "source": [
    "# Display the Male Churn count\n",
    "FemaleYes"
   ]
  },
  {
   "cell_type": "code",
   "execution_count": 29,
   "id": "d9694786",
   "metadata": {},
   "outputs": [],
   "source": [
    "#Add the counts of Females who has churn value as 'No'\n",
    "FemaleNo = genderchurn.loc[(genderchurn['gender']=='Female') & (genderchurn['Churn']=='No'),'gender'].count()"
   ]
  },
  {
   "cell_type": "code",
   "execution_count": 30,
   "id": "d4f9f6c5",
   "metadata": {},
   "outputs": [
    {
     "data": {
      "text/plain": [
       "2549"
      ]
     },
     "execution_count": 30,
     "metadata": {},
     "output_type": "execute_result"
    }
   ],
   "source": [
    "# Display the Female Churn=No count\n",
    "FemaleNo"
   ]
  },
  {
   "cell_type": "code",
   "execution_count": 31,
   "id": "6ba0add9",
   "metadata": {},
   "outputs": [
    {
     "data": {
      "text/plain": [
       "7043"
      ]
     },
     "execution_count": 31,
     "metadata": {},
     "output_type": "execute_result"
    }
   ],
   "source": [
    "#Take the total count and check if matches the number of rows\n",
    "TotalCount = MaleYes + MaleNo + FemaleYes + FemaleNo\n",
    "TotalCount"
   ]
  },
  {
   "cell_type": "code",
   "execution_count": 32,
   "id": "26c11d08",
   "metadata": {},
   "outputs": [
    {
     "data": {
      "text/plain": [
       "<AxesSubplot:xlabel='count', ylabel='Churn'>"
      ]
     },
     "execution_count": 32,
     "metadata": {},
     "output_type": "execute_result"
    },
    {
     "data": {
      "image/png": "[encoded data removed]",
      "text/plain": [
       "<Figure size 432x288 with 1 Axes>"
      ]
     },
     "metadata": {
      "needs_background": "light"
     },
     "output_type": "display_data"
    }
   ],
   "source": [
    "#Method 1 - Display the churn count for male and female in different palettes using sns\n",
    "# Width of the graph represents the count\n",
    "import seaborn as sns\n",
    "sns.countplot(y='Churn', hue='gender', data=genderchurn, palette=\"husl\")"
   ]
  },
  {
   "cell_type": "code",
   "execution_count": 33,
   "id": "8bde5516",
   "metadata": {},
   "outputs": [
    {
     "data": {
      "text/plain": [
       "<AxesSubplot:xlabel='gender'>"
      ]
     },
     "execution_count": 33,
     "metadata": {},
     "output_type": "execute_result"
    },
    {
     "data": {
      "image/png": "[encoded data removed]",
      "text/plain": [
       "<Figure size 432x288 with 1 Axes>"
      ]
     },
     "metadata": {
      "needs_background": "light"
     },
     "output_type": "display_data"
    }
   ],
   "source": [
    "#Method 1 - Display the churn count for male and female in different palettes using sns\n",
    "# height of the graph represents the count\n",
    "gc1=genderchurn.groupby(['gender','Churn']).size()\n",
    "gc2=gc1.unstack()\n",
    "gc2.plot(kind='bar')"
   ]
  },
  {
   "cell_type": "code",
   "execution_count": 34,
   "id": "f6cd6130",
   "metadata": {},
   "outputs": [],
   "source": [
    "#Inference : \n",
    "#1 . Around 2500 males and females had a churn value of 'No'\n",
    "#2. Under 1000 males and females had a churn value of 'Yes'\n"
   ]
  },
  {
   "cell_type": "markdown",
   "id": "7ec4224f",
   "metadata": {},
   "source": [
    "# 2) Find out how many female senior citizens there in the dataset "
   ]
  },
  {
   "cell_type": "code",
   "execution_count": 40,
   "id": "44205b9b",
   "metadata": {},
   "outputs": [],
   "source": [
    "#Create a new data frame using the columns 'gender' and 'Seniorcitizen'\n",
    "genderss=pd.DataFrame(sstab1, columns=['gender','SeniorCitizen'])"
   ]
  },
  {
   "cell_type": "code",
   "execution_count": 41,
   "id": "18858b6e",
   "metadata": {},
   "outputs": [
    {
     "name": "stdout",
     "output_type": "stream",
     "text": [
      "No of Female senior citizens =  568\n"
     ]
    }
   ],
   "source": [
    "#Check the count of Female senior citizens by checking for value '1' in SeniorCitizen and 'Female' in 'gender' columns\n",
    "FemaleSScount = genderss.loc[(genderss['gender']=='Female') & (genderss['SeniorCitizen']==1),'gender'].count()\n",
    "print(\"No of Female senior citizens = \", FemaleSScount)"
   ]
  },
  {
   "cell_type": "code",
   "execution_count": 42,
   "id": "5fc9e52f",
   "metadata": {},
   "outputs": [
    {
     "name": "stdout",
     "output_type": "stream",
     "text": [
      "No of male senior citizens =  574\n"
     ]
    }
   ],
   "source": [
    "#Check the count of male senior citizens by checking for value '1' in SeniorCitizen and 'Male' in 'gender' columns\n",
    "maleSScount = genderss.loc[(genderss['gender']=='Male') & (genderss['SeniorCitizen']==1),'gender'].count()\n",
    "print(\"No of male senior citizens = \", maleSScount)"
   ]
  },
  {
   "cell_type": "code",
   "execution_count": 43,
   "id": "b691407f",
   "metadata": {},
   "outputs": [],
   "source": [
    "# Inference - There are 568 senior citizens who are Female"
   ]
  },
  {
   "cell_type": "code",
   "execution_count": 47,
   "id": "a2d6f34e",
   "metadata": {},
   "outputs": [
    {
     "data": {
      "text/plain": [
       "<AxesSubplot:xlabel='gender'>"
      ]
     },
     "execution_count": 47,
     "metadata": {},
     "output_type": "execute_result"
    },
    {
     "data": {
      "image/png": "[encoded data removed]",
      "text/plain": [
       "<Figure size 432x288 with 1 Axes>"
      ]
     },
     "metadata": {
      "needs_background": "light"
     },
     "output_type": "display_data"
    }
   ],
   "source": [
    "dffemaleSS= genderss[ (genderss['SeniorCitizen']==1)] \n",
    "ss1=dffemaleSS.groupby(['gender','SeniorCitizen']).size()\n",
    "ss2=ss1.unstack()\n",
    "ss2.plot(kind='bar')\n"
   ]
  },
  {
   "cell_type": "code",
   "execution_count": 3,
   "id": "1fb2c94b",
   "metadata": {},
   "outputs": [],
   "source": [
    "# Inference - \n",
    "#1 . There are 568 senior citizens who are Female and 574 who are male\n",
    "#2.  The number of Senior citizens almost match in each gender i.e around 570 in each gender"
   ]
  },
  {
   "cell_type": "markdown",
   "id": "180b4b3a",
   "metadata": {},
   "source": [
    "# 3) Compare 'tenure' with 'Total Charges' "
   ]
  },
  {
   "cell_type": "code",
   "execution_count": 48,
   "id": "2e1d9f89",
   "metadata": {},
   "outputs": [
    {
     "data": {
      "text/html": [
       "<div>\n",
       "<style scoped>\n",
       "    .dataframe tbody tr th:only-of-type {\n",
       "        vertical-align: middle;\n",
       "    }\n",
       "\n",
       "    .dataframe tbody tr th {\n",
       "        vertical-align: top;\n",
       "    }\n",
       "\n",
       "    .dataframe thead th {\n",
       "        text-align: right;\n",
       "    }\n",
       "</style>\n",
       "<table border=\"1\" class=\"dataframe\">\n",
       "  <thead>\n",
       "    <tr style=\"text-align: right;\">\n",
       "      <th></th>\n",
       "      <th>tenure</th>\n",
       "      <th>TotalCharges</th>\n",
       "    </tr>\n",
       "  </thead>\n",
       "  <tbody>\n",
       "    <tr>\n",
       "      <th>0</th>\n",
       "      <td>1</td>\n",
       "      <td>29.85</td>\n",
       "    </tr>\n",
       "    <tr>\n",
       "      <th>1</th>\n",
       "      <td>34</td>\n",
       "      <td>1889.5</td>\n",
       "    </tr>\n",
       "    <tr>\n",
       "      <th>2</th>\n",
       "      <td>2</td>\n",
       "      <td>108.15</td>\n",
       "    </tr>\n",
       "    <tr>\n",
       "      <th>3</th>\n",
       "      <td>45</td>\n",
       "      <td>1840.75</td>\n",
       "    </tr>\n",
       "    <tr>\n",
       "      <th>4</th>\n",
       "      <td>2</td>\n",
       "      <td>151.65</td>\n",
       "    </tr>\n",
       "    <tr>\n",
       "      <th>...</th>\n",
       "      <td>...</td>\n",
       "      <td>...</td>\n",
       "    </tr>\n",
       "    <tr>\n",
       "      <th>7038</th>\n",
       "      <td>24</td>\n",
       "      <td>1990.5</td>\n",
       "    </tr>\n",
       "    <tr>\n",
       "      <th>7039</th>\n",
       "      <td>72</td>\n",
       "      <td>7362.9</td>\n",
       "    </tr>\n",
       "    <tr>\n",
       "      <th>7040</th>\n",
       "      <td>11</td>\n",
       "      <td>346.45</td>\n",
       "    </tr>\n",
       "    <tr>\n",
       "      <th>7041</th>\n",
       "      <td>4</td>\n",
       "      <td>306.6</td>\n",
       "    </tr>\n",
       "    <tr>\n",
       "      <th>7042</th>\n",
       "      <td>66</td>\n",
       "      <td>6844.5</td>\n",
       "    </tr>\n",
       "  </tbody>\n",
       "</table>\n",
       "<p>7043 rows × 2 columns</p>\n",
       "</div>"
      ],
      "text/plain": [
       "      tenure TotalCharges\n",
       "0          1        29.85\n",
       "1         34       1889.5\n",
       "2          2       108.15\n",
       "3         45      1840.75\n",
       "4          2       151.65\n",
       "...      ...          ...\n",
       "7038      24       1990.5\n",
       "7039      72       7362.9\n",
       "7040      11       346.45\n",
       "7041       4        306.6\n",
       "7042      66       6844.5\n",
       "\n",
       "[7043 rows x 2 columns]"
      ]
     },
     "execution_count": 48,
     "metadata": {},
     "output_type": "execute_result"
    }
   ],
   "source": [
    "#Create a new dataframe by adding tenure and TotalCharges columns from the original spreadsheet\n",
    "Tenure_TotalCharges=pd.DataFrame(sstab1, columns=['tenure','TotalCharges'])\n",
    "#Check the Tenure_TotalCharges data frame \n",
    "Tenure_TotalCharges"
   ]
  },
  {
   "cell_type": "code",
   "execution_count": 49,
   "id": "a4bd0491",
   "metadata": {},
   "outputs": [
    {
     "data": {
      "text/plain": [
       "<AxesSubplot:title={'center':' Avg TotalCharges'}>"
      ]
     },
     "execution_count": 49,
     "metadata": {},
     "output_type": "execute_result"
    },
    {
     "data": {
      "image/png": "[encoded data removed]",
      "text/plain": [
       "<Figure size 864x504 with 2 Axes>"
      ]
     },
     "metadata": {
      "needs_background": "light"
     },
     "output_type": "display_data"
    }
   ],
   "source": [
    "# Converting the datatype of TotalCharges from Object to Float\n",
    "Tenure_TotalCharges ['TotalCharges'] = pd.to_numeric(Tenure_TotalCharges['TotalCharges'], errors='coerce')\n",
    "Tenure_TotalCharges = Tenure_TotalCharges.replace(np.nan, 0, regex=True)\n",
    "#Create abox plot for average tenure and Average TotalCharges\n",
    "fig, axes = plt.subplots(1,2,figsize=(12,7))\n",
    "fig.suptitle('Avg for Tenure & TotalCharges',fontsize=15)\n",
    "axes[0].set_title(' Avg Tenure')\n",
    "axes[1].set_title(' Avg TotalCharges')\n",
    "sns.boxplot(ax=axes[0],data=Tenure_TotalCharges['tenure'])\n",
    "sns.boxplot(ax=axes[1],data=Tenure_TotalCharges['TotalCharges'])"
   ]
  },
  {
   "cell_type": "code",
   "execution_count": 50,
   "id": "f3e0e003",
   "metadata": {},
   "outputs": [
    {
     "data": {
      "text/plain": [
       "Text(0.5, 1.0, 'Tenure vs total charges')"
      ]
     },
     "execution_count": 50,
     "metadata": {},
     "output_type": "execute_result"
    },
    {
     "data": {
      "image/png": "[encoded data removed]",
      "text/plain": [
       "<Figure size 1152x720 with 1 Axes>"
      ]
     },
     "metadata": {
      "needs_background": "light"
     },
     "output_type": "display_data"
    }
   ],
   "source": [
    "#Create abar plot of Tenure vs total Charges\n",
    "plt.figure(figsize=(16,10))\n",
    "sns.barplot(x='tenure',y='TotalCharges',data=Tenure_TotalCharges)\n",
    "plt.title('Tenure vs total charges',fontsize=18)"
   ]
  },
  {
   "cell_type": "code",
   "execution_count": null,
   "id": "0a909f62",
   "metadata": {},
   "outputs": [],
   "source": [
    "#Inference - As the tenure increases , the Total Charge also increase \n"
   ]
  },
  {
   "cell_type": "markdown",
   "id": "1411c7ef",
   "metadata": {},
   "source": [
    "# 4) Find out which contract preffered by the senior citizen. "
   ]
  },
  {
   "cell_type": "code",
   "execution_count": 51,
   "id": "5c9b13ee",
   "metadata": {},
   "outputs": [],
   "source": [
    "#Create a dataframe containing SeniorCitizen and Contract\n",
    "SScontract=pd.DataFrame(sstab1, columns=['SeniorCitizen','Contract'])"
   ]
  },
  {
   "cell_type": "code",
   "execution_count": 116,
   "id": "b609eed2",
   "metadata": {},
   "outputs": [
    {
     "data": {
      "text/html": [
       "<div>\n",
       "<style scoped>\n",
       "    .dataframe tbody tr th:only-of-type {\n",
       "        vertical-align: middle;\n",
       "    }\n",
       "\n",
       "    .dataframe tbody tr th {\n",
       "        vertical-align: top;\n",
       "    }\n",
       "\n",
       "    .dataframe thead th {\n",
       "        text-align: right;\n",
       "    }\n",
       "</style>\n",
       "<table border=\"1\" class=\"dataframe\">\n",
       "  <thead>\n",
       "    <tr style=\"text-align: right;\">\n",
       "      <th></th>\n",
       "      <th>SeniorCitizen</th>\n",
       "      <th>Contract</th>\n",
       "    </tr>\n",
       "  </thead>\n",
       "  <tbody>\n",
       "    <tr>\n",
       "      <th>0</th>\n",
       "      <td>0</td>\n",
       "      <td>Month-to-month</td>\n",
       "    </tr>\n",
       "    <tr>\n",
       "      <th>1</th>\n",
       "      <td>0</td>\n",
       "      <td>One year</td>\n",
       "    </tr>\n",
       "    <tr>\n",
       "      <th>2</th>\n",
       "      <td>0</td>\n",
       "      <td>Month-to-month</td>\n",
       "    </tr>\n",
       "    <tr>\n",
       "      <th>3</th>\n",
       "      <td>0</td>\n",
       "      <td>One year</td>\n",
       "    </tr>\n",
       "    <tr>\n",
       "      <th>4</th>\n",
       "      <td>0</td>\n",
       "      <td>Month-to-month</td>\n",
       "    </tr>\n",
       "    <tr>\n",
       "      <th>...</th>\n",
       "      <td>...</td>\n",
       "      <td>...</td>\n",
       "    </tr>\n",
       "    <tr>\n",
       "      <th>7038</th>\n",
       "      <td>0</td>\n",
       "      <td>One year</td>\n",
       "    </tr>\n",
       "    <tr>\n",
       "      <th>7039</th>\n",
       "      <td>0</td>\n",
       "      <td>One year</td>\n",
       "    </tr>\n",
       "    <tr>\n",
       "      <th>7040</th>\n",
       "      <td>0</td>\n",
       "      <td>Month-to-month</td>\n",
       "    </tr>\n",
       "    <tr>\n",
       "      <th>7041</th>\n",
       "      <td>1</td>\n",
       "      <td>Month-to-month</td>\n",
       "    </tr>\n",
       "    <tr>\n",
       "      <th>7042</th>\n",
       "      <td>0</td>\n",
       "      <td>Two year</td>\n",
       "    </tr>\n",
       "  </tbody>\n",
       "</table>\n",
       "<p>7043 rows × 2 columns</p>\n",
       "</div>"
      ],
      "text/plain": [
       "      SeniorCitizen        Contract\n",
       "0                 0  Month-to-month\n",
       "1                 0        One year\n",
       "2                 0  Month-to-month\n",
       "3                 0        One year\n",
       "4                 0  Month-to-month\n",
       "...             ...             ...\n",
       "7038              0        One year\n",
       "7039              0        One year\n",
       "7040              0  Month-to-month\n",
       "7041              1  Month-to-month\n",
       "7042              0        Two year\n",
       "\n",
       "[7043 rows x 2 columns]"
      ]
     },
     "execution_count": 116,
     "metadata": {},
     "output_type": "execute_result"
    }
   ],
   "source": [
    "#Check the dataframe SScontract\n",
    "SScontract"
   ]
  },
  {
   "cell_type": "code",
   "execution_count": 52,
   "id": "743ca183",
   "metadata": {},
   "outputs": [],
   "source": [
    "#Filter the SeniorCitizen column = 1 to a new dataframe SS_prefered_contract\n",
    "SS_prefered_contract = SScontract.loc[(SScontract['SeniorCitizen']==1) ]"
   ]
  },
  {
   "cell_type": "code",
   "execution_count": 30,
   "id": "b5da14b9",
   "metadata": {},
   "outputs": [
    {
     "data": {
      "text/html": [
       "<div>\n",
       "<style scoped>\n",
       "    .dataframe tbody tr th:only-of-type {\n",
       "        vertical-align: middle;\n",
       "    }\n",
       "\n",
       "    .dataframe tbody tr th {\n",
       "        vertical-align: top;\n",
       "    }\n",
       "\n",
       "    .dataframe thead th {\n",
       "        text-align: right;\n",
       "    }\n",
       "</style>\n",
       "<table border=\"1\" class=\"dataframe\">\n",
       "  <thead>\n",
       "    <tr style=\"text-align: right;\">\n",
       "      <th></th>\n",
       "      <th>SeniorCitizen</th>\n",
       "      <th>Contract</th>\n",
       "    </tr>\n",
       "  </thead>\n",
       "  <tbody>\n",
       "    <tr>\n",
       "      <th>20</th>\n",
       "      <td>1</td>\n",
       "      <td>Month-to-month</td>\n",
       "    </tr>\n",
       "    <tr>\n",
       "      <th>30</th>\n",
       "      <td>1</td>\n",
       "      <td>Two year</td>\n",
       "    </tr>\n",
       "    <tr>\n",
       "      <th>31</th>\n",
       "      <td>1</td>\n",
       "      <td>Month-to-month</td>\n",
       "    </tr>\n",
       "    <tr>\n",
       "      <th>34</th>\n",
       "      <td>1</td>\n",
       "      <td>Month-to-month</td>\n",
       "    </tr>\n",
       "    <tr>\n",
       "      <th>50</th>\n",
       "      <td>1</td>\n",
       "      <td>Month-to-month</td>\n",
       "    </tr>\n",
       "    <tr>\n",
       "      <th>...</th>\n",
       "      <td>...</td>\n",
       "      <td>...</td>\n",
       "    </tr>\n",
       "    <tr>\n",
       "      <th>7023</th>\n",
       "      <td>1</td>\n",
       "      <td>Month-to-month</td>\n",
       "    </tr>\n",
       "    <tr>\n",
       "      <th>7029</th>\n",
       "      <td>1</td>\n",
       "      <td>Month-to-month</td>\n",
       "    </tr>\n",
       "    <tr>\n",
       "      <th>7031</th>\n",
       "      <td>1</td>\n",
       "      <td>One year</td>\n",
       "    </tr>\n",
       "    <tr>\n",
       "      <th>7032</th>\n",
       "      <td>1</td>\n",
       "      <td>Month-to-month</td>\n",
       "    </tr>\n",
       "    <tr>\n",
       "      <th>7041</th>\n",
       "      <td>1</td>\n",
       "      <td>Month-to-month</td>\n",
       "    </tr>\n",
       "  </tbody>\n",
       "</table>\n",
       "<p>1142 rows × 2 columns</p>\n",
       "</div>"
      ],
      "text/plain": [
       "      SeniorCitizen        Contract\n",
       "20                1  Month-to-month\n",
       "30                1        Two year\n",
       "31                1  Month-to-month\n",
       "34                1  Month-to-month\n",
       "50                1  Month-to-month\n",
       "...             ...             ...\n",
       "7023              1  Month-to-month\n",
       "7029              1  Month-to-month\n",
       "7031              1        One year\n",
       "7032              1  Month-to-month\n",
       "7041              1  Month-to-month\n",
       "\n",
       "[1142 rows x 2 columns]"
      ]
     },
     "execution_count": 30,
     "metadata": {},
     "output_type": "execute_result"
    }
   ],
   "source": [
    "#Check the SS_prefered_contract dataframe\n",
    "SS_prefered_contract"
   ]
  },
  {
   "cell_type": "code",
   "execution_count": 53,
   "id": "5fa353ac",
   "metadata": {},
   "outputs": [
    {
     "data": {
      "text/plain": [
       "<AxesSubplot:xlabel='SeniorCitizen'>"
      ]
     },
     "execution_count": 53,
     "metadata": {},
     "output_type": "execute_result"
    },
    {
     "data": {
      "image/png": "[encoded data removed]",
      "text/plain": [
       "<Figure size 432x288 with 1 Axes>"
      ]
     },
     "metadata": {
      "needs_background": "light"
     },
     "output_type": "display_data"
    }
   ],
   "source": [
    "#Plot a bar graph and see the prefence for senior citizens \n",
    "SSC=SS_prefered_contract.groupby(['SeniorCitizen','Contract']).size()\n",
    "SSC=SSC.unstack()\n",
    "SSC.plot(kind='bar')"
   ]
  },
  {
   "cell_type": "code",
   "execution_count": null,
   "id": "c2e62c2e",
   "metadata": {},
   "outputs": [],
   "source": [
    "#inference : It is clear that most of the senior citizens prefer Month-to-month contract.One year contact is \n",
    "# the 2nd most favorable and two year contract is the least favorable among senior citizens "
   ]
  },
  {
   "cell_type": "markdown",
   "id": "dfdee436",
   "metadata": {},
   "source": [
    "# 5) Comment on your finds on Payment Method"
   ]
  },
  {
   "cell_type": "code",
   "execution_count": 54,
   "id": "bbe41e99",
   "metadata": {},
   "outputs": [
    {
     "data": {
      "text/plain": [
       "(array([0, 1, 2, 3]),\n",
       " [Text(0, 0, 'Electronic check'),\n",
       "  Text(1, 0, 'Mailed check'),\n",
       "  Text(2, 0, 'Bank transfer (automatic)'),\n",
       "  Text(3, 0, 'Credit card (automatic)')])"
      ]
     },
     "execution_count": 54,
     "metadata": {},
     "output_type": "execute_result"
    },
    {
     "data": {
      "image/png": "[encoded data removed]",
      "text/plain": [
       "<Figure size 432x432 with 1 Axes>"
      ]
     },
     "metadata": {
      "needs_background": "light"
     },
     "output_type": "display_data"
    }
   ],
   "source": [
    "#1 - To find the most preferred payment method in general\n",
    "sstab1[\"PaymentMethod\"].value_counts()\n",
    "plt.figure(figsize=(6,6))\n",
    "sns.countplot(x='PaymentMethod',hue='PaymentMethod',data=sstab1)\n",
    "plt.title(\"Payment Method\",fontsize=18 )\n",
    "plt.xticks(rotation=45)"
   ]
  },
  {
   "cell_type": "code",
   "execution_count": null,
   "id": "b49e2307",
   "metadata": {},
   "outputs": [],
   "source": [
    "# Inference - Electronic check is the most preferred payment method followed by Mailed check,bank transfer and Credit card"
   ]
  },
  {
   "cell_type": "code",
   "execution_count": 55,
   "id": "0ff3e955",
   "metadata": {},
   "outputs": [
    {
     "data": {
      "text/plain": [
       "<matplotlib.legend.Legend at 0x19f408359d0>"
      ]
     },
     "execution_count": 55,
     "metadata": {},
     "output_type": "execute_result"
    },
    {
     "data": {
      "image/png": "[encoded data removed]",
      "text/plain": [
       "<Figure size 432x288 with 1 Axes>"
      ]
     },
     "metadata": {
      "needs_background": "light"
     },
     "output_type": "display_data"
    }
   ],
   "source": [
    "#Plot 2 - Prefered payment methods among senior citizens\n",
    "SSpayment = pd.DataFrame(sstab1, columns=['SeniorCitizen','PaymentMethod'])\n",
    "SS_prefered_payment = SSpayment.loc[(SSpayment['SeniorCitizen']==1) ]\n",
    "SSP=SS_prefered_payment.groupby(['SeniorCitizen','PaymentMethod']).size()\n",
    "SSP=SSP.unstack()\n",
    "SSP.plot(kind='bar').legend(loc=(1.04,0),title=\"\",prop={'size': 10})"
   ]
  },
  {
   "cell_type": "code",
   "execution_count": null,
   "id": "b6abb2ea",
   "metadata": {},
   "outputs": [],
   "source": [
    "#Inference - Most senior citizens prefer Electronic check .Credit card and bank transfer have almost the 2nd preference. \n",
    "# The least preferred option by senior citizens is mailed check "
   ]
  },
  {
   "cell_type": "code",
   "execution_count": 56,
   "id": "c088271a",
   "metadata": {},
   "outputs": [
    {
     "data": {
      "text/plain": [
       "<matplotlib.legend.Legend at 0x19f468c5b80>"
      ]
     },
     "execution_count": 56,
     "metadata": {},
     "output_type": "execute_result"
    },
    {
     "data": {
      "image/png": "[encoded data removed]",
      "text/plain": [
       "<Figure size 432x288 with 1 Axes>"
      ]
     },
     "metadata": {
      "needs_background": "light"
     },
     "output_type": "display_data"
    }
   ],
   "source": [
    "#Plot 3 . To find preferred payment method for females\n",
    "\n",
    "GenderPayment = pd.DataFrame(sstab1, columns=['gender','PaymentMethod'])\n",
    "# Preferred payment methods for females \n",
    "Female_prefered_payment = GenderPayment.loc[(GenderPayment['gender']=='Female') ]\n",
    "FPP=Female_prefered_payment.groupby(['gender','PaymentMethod']).size()\n",
    "FPP=FPP.unstack()\n",
    "FPP.plot(kind='bar').legend(loc=(1.04,0),title=\"\",prop={'size': 10})\n"
   ]
  },
  {
   "cell_type": "code",
   "execution_count": null,
   "id": "a807fe49",
   "metadata": {},
   "outputs": [],
   "source": [
    "# Inference -Most females have an affinity towards Electronic check. Other 3 methods have almost an equal preference"
   ]
  },
  {
   "cell_type": "code",
   "execution_count": 57,
   "id": "578a082d",
   "metadata": {},
   "outputs": [
    {
     "data": {
      "text/plain": [
       "<matplotlib.legend.Legend at 0x19f45ccf190>"
      ]
     },
     "execution_count": 57,
     "metadata": {},
     "output_type": "execute_result"
    },
    {
     "data": {
      "image/png": "[encoded data removed]",
      "text/plain": [
       "<Figure size 432x288 with 1 Axes>"
      ]
     },
     "metadata": {
      "needs_background": "light"
     },
     "output_type": "display_data"
    }
   ],
   "source": [
    "#Plot 4 . To find preferred payment method for males\n",
    "\n",
    "GenderPayment = pd.DataFrame(sstab1, columns=['gender','PaymentMethod'])\n",
    "# Preferred payment methods for females \n",
    "Female_prefered_payment = GenderPayment.loc[(GenderPayment['gender']=='Male') ]\n",
    "FPP=Female_prefered_payment.groupby(['gender','PaymentMethod']).size()\n",
    "FPP=FPP.unstack()\n",
    "FPP.plot(kind='bar').legend(loc=(1.04,0),title=\"\",prop={'size': 10})\n"
   ]
  },
  {
   "cell_type": "code",
   "execution_count": null,
   "id": "e25d93ab",
   "metadata": {},
   "outputs": [],
   "source": [
    "# Inference -Most males have an affinity towards Electronic check. Other 3 methods have almost an equal preference"
   ]
  },
  {
   "cell_type": "code",
   "execution_count": 58,
   "id": "ac15887f",
   "metadata": {},
   "outputs": [
    {
     "data": {
      "text/plain": [
       "Text(0, 0.5, 'Preference')"
      ]
     },
     "execution_count": 58,
     "metadata": {},
     "output_type": "execute_result"
    },
    {
     "data": {
      "image/png": "[encoded data removed]",
      "text/plain": [
       "<Figure size 432x288 with 1 Axes>"
      ]
     },
     "metadata": {
      "needs_background": "light"
     },
     "output_type": "display_data"
    }
   ],
   "source": [
    "# Plot 5 - To find preferred payment methods for people under 60 \n",
    "SSpayment = pd.DataFrame(sstab1, columns=['SeniorCitizen','PaymentMethod'])\n",
    "Youth_prefered_payment = SSpayment.loc[(SSpayment['SeniorCitizen']==0) ]\n",
    "YPF=Youth_prefered_payment.groupby(['SeniorCitizen','PaymentMethod']).size()\n",
    "YPF=YPF.unstack()\n",
    "YPF.plot(kind='bar').legend(loc=(1.04,0),title=\"\",prop={'size': 15})\n",
    "plt.xlabel(\"Non senior citizen\")\n",
    "plt.ylabel(\"Preference\")"
   ]
  },
  {
   "cell_type": "code",
   "execution_count": null,
   "id": "f4cdcacc",
   "metadata": {},
   "outputs": [],
   "source": [
    "# Inference - Most of the people who are aged below 60 prefer electronic check followed by mailed check. \n",
    "# They have almost equal preference towards  payments using bank transfer and credit cards"
   ]
  },
  {
   "cell_type": "code",
   "execution_count": 59,
   "id": "27bbf556",
   "metadata": {},
   "outputs": [
    {
     "data": {
      "image/png": "[encoded data removed]",
      "text/plain": [
       "<Figure size 720x504 with 1 Axes>"
      ]
     },
     "metadata": {},
     "output_type": "display_data"
    }
   ],
   "source": [
    "# Plot 6 - Plotting Pie chart for percentage of payments for people under 60\n",
    "fig = plt.figure(figsize=(10,7))\n",
    "plt.pie(SSpayment.loc[SSpayment['SeniorCitizen'] == 0, ['PaymentMethod']].value_counts().to_list(), labels = list(SSpayment['PaymentMethod'].unique()),autopct='%1.2f%%')\n",
    "plt.title(\"Non Senior citizen - Payments\")\n",
    "plt.show()"
   ]
  },
  {
   "cell_type": "code",
   "execution_count": 58,
   "id": "d211c9fa",
   "metadata": {},
   "outputs": [
    {
     "data": {
      "image/png": "[encoded data removed]",
      "text/plain": [
       "<Figure size 720x504 with 1 Axes>"
      ]
     },
     "metadata": {},
     "output_type": "display_data"
    }
   ],
   "source": [
    "# Plot 7 - Plotting Pie chart for percentage of payments for senior citizens\n",
    "fig = plt.figure(figsize=(10,7))\n",
    "plt.pie(SSpayment.loc[SSpayment['SeniorCitizen'] == 1, ['PaymentMethod']].value_counts().to_list(), labels = list(SSpayment['PaymentMethod'].unique()),autopct='%1.2f%%')\n",
    "plt.title(\"Senior citizen - Payments\")\n",
    "plt.show()"
   ]
  },
  {
   "cell_type": "markdown",
   "id": "b8035d97",
   "metadata": {},
   "source": [
    "# THANKS!"
   ]
  },
  {
   "cell_type": "markdown",
   "id": "817e01fd",
   "metadata": {},
   "source": [
    "# Presented by Team no 15\n",
    "Harikrishnan Bhuvanendran, Viswaraj Chandran, Aneesh Akramannil, Rahna Babu C"
   ]
  },
  {
   "cell_type": "code",
   "execution_count": null,
   "id": "6b478335",
   "metadata": {},
   "outputs": [],
   "source": []
  }
 ],
 "metadata": {
  "kernelspec": {
   "display_name": "Python 3",
   "language": "python",
   "name": "python3"
  },
  "language_info": {
   "codemirror_mode": {
    "name": "ipython",
    "version": 3
   },
   "file_extension": ".py",
   "mimetype": "text/x-python",
   "name": "python",
   "nbconvert_exporter": "python",
   "pygments_lexer": "ipython3",
   "version": "3.8.8"
  }
 },
 "nbformat": 4,
 "nbformat_minor": 5
}
